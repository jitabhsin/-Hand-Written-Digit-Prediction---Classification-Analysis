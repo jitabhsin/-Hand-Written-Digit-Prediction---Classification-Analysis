{
  "cells": [
    {
      "cell_type": "markdown",
      "source": [
        "# **Hand Written Digit Prediction - Classification Analysis**\n"
      ],
      "metadata": {
        "id": "7BXbFrb1SJGN"
      },
      "id": "7BXbFrb1SJGN"
    },
    {
      "cell_type": "markdown",
      "source": [
        "The digits dataset consists of 8x8 pixel images of digits. The images attribute of the dataset stores 8x8 arrays of grayscale values for each image. We will use these arrays to visualize the first 4 images. The target attribute of the dataset stores the digit each image represents"
      ],
      "metadata": {
        "id": "Jul7AjVHRkmO"
      },
      "id": "Jul7AjVHRkmO"
    },
    {
      "cell_type": "markdown",
      "id": "59cc3c2b",
      "metadata": {
        "id": "59cc3c2b"
      },
      "source": [
        "# Import Library"
      ]
    },
    {
      "cell_type": "code",
      "execution_count": 1,
      "id": "623a39e4",
      "metadata": {
        "id": "623a39e4"
      },
      "outputs": [],
      "source": [
        "import pandas as pd"
      ]
    },
    {
      "cell_type": "code",
      "execution_count": 2,
      "id": "95b2f8a3",
      "metadata": {
        "id": "95b2f8a3"
      },
      "outputs": [],
      "source": [
        "import numpy as np"
      ]
    },
    {
      "cell_type": "code",
      "execution_count": 3,
      "id": "faf67c9d",
      "metadata": {
        "id": "faf67c9d"
      },
      "outputs": [],
      "source": [
        "import matplotlib.pyplot as plt"
      ]
    },
    {
      "cell_type": "markdown",
      "id": "4a5e2032",
      "metadata": {
        "id": "4a5e2032"
      },
      "source": [
        "# Import Data"
      ]
    },
    {
      "cell_type": "code",
      "execution_count": 4,
      "id": "abadce61",
      "metadata": {
        "id": "abadce61"
      },
      "outputs": [],
      "source": [
        "from sklearn.datasets import load_digits"
      ]
    },
    {
      "cell_type": "code",
      "execution_count": 5,
      "id": "51796732",
      "metadata": {
        "id": "51796732"
      },
      "outputs": [],
      "source": [
        "df = load_digits()"
      ]
    },
    {
      "cell_type": "code",
      "execution_count": 6,
      "id": "28787317",
      "metadata": {
        "colab": {
          "base_uri": "https://localhost:8080/",
          "height": 227
        },
        "id": "28787317",
        "outputId": "b7f5b9ce-3411-48c6-c1cb-f29d2d3b0ef2"
      },
      "outputs": [
        {
          "output_type": "display_data",
          "data": {
            "text/plain": [
              "<Figure size 1000x300 with 4 Axes>"
            ],
            "image/png": "[encoded data removed]"
          },
          "metadata": {}
        }
      ],
      "source": [
        "_, axes = plt.subplots(nrows = 1, ncols = 4, figsize = (10, 3))\n",
        "for ax, image, label in zip(axes, df.images, df.target):\n",
        "    ax.set_axis_off()\n",
        "    ax.imshow(image, cmap=plt.cm.gray_r, interpolation = 'nearest')\n",
        "    ax.set_title('Training: %i' % label)"
      ]
    },
    {
      "cell_type": "markdown",
      "id": "afd0d7e5",
      "metadata": {
        "id": "afd0d7e5"
      },
      "source": [
        "# Data Preprocessing\n",
        "##### Flatten Image"
      ]
    },
    {
      "cell_type": "code",
      "execution_count": 7,
      "id": "1b8b097d",
      "metadata": {
        "colab": {
          "base_uri": "https://localhost:8080/"
        },
        "id": "1b8b097d",
        "outputId": "07917ef0-9d1c-4ce6-d78d-df4d45cb2b93"
      },
      "outputs": [
        {
          "output_type": "execute_result",
          "data": {
            "text/plain": [
              "(1797, 8, 8)"
            ]
          },
          "metadata": {},
          "execution_count": 7
        }
      ],
      "source": [
        "df.images.shape"
      ]
    },
    {
      "cell_type": "code",
      "execution_count": 8,
      "id": "d8b315ad",
      "metadata": {
        "colab": {
          "base_uri": "https://localhost:8080/"
        },
        "id": "d8b315ad",
        "outputId": "e23f4a36-8687-4f1b-b2e9-9bdaca4f1aef"
      },
      "outputs": [
        {
          "output_type": "execute_result",
          "data": {
            "text/plain": [
              "array([[ 0.,  0.,  5., 13.,  9.,  1.,  0.,  0.],\n",
              "       [ 0.,  0., 13., 15., 10., 15.,  5.,  0.],\n",
              "       [ 0.,  3., 15.,  2.,  0., 11.,  8.,  0.],\n",
              "       [ 0.,  4., 12.,  0.,  0.,  8.,  8.,  0.],\n",
              "       [ 0.,  5.,  8.,  0.,  0.,  9.,  8.,  0.],\n",
              "       [ 0.,  4., 11.,  0.,  1., 12.,  7.,  0.],\n",
              "       [ 0.,  2., 14.,  5., 10., 12.,  0.,  0.],\n",
              "       [ 0.,  0.,  6., 13., 10.,  0.,  0.,  0.]])"
            ]
          },
          "metadata": {},
          "execution_count": 8
        }
      ],
      "source": [
        "df.images[0]"
      ]
    },
    {
      "cell_type": "code",
      "execution_count": 9,
      "id": "0732a722",
      "metadata": {
        "colab": {
          "base_uri": "https://localhost:8080/"
        },
        "id": "0732a722",
        "outputId": "debb8c99-6d05-44ee-ead9-439f53f0e384"
      },
      "outputs": [
        {
          "output_type": "execute_result",
          "data": {
            "text/plain": [
              "(8, 8)"
            ]
          },
          "metadata": {},
          "execution_count": 9
        }
      ],
      "source": [
        "df.images[0].shape"
      ]
    },
    {
      "cell_type": "code",
      "execution_count": 10,
      "id": "874251bc",
      "metadata": {
        "id": "874251bc"
      },
      "outputs": [],
      "source": [
        "n_samples = len(df.images)\n",
        "data = df.images.reshape((n_samples, -1))"
      ]
    },
    {
      "cell_type": "code",
      "execution_count": 11,
      "id": "4de06991",
      "metadata": {
        "colab": {
          "base_uri": "https://localhost:8080/"
        },
        "id": "4de06991",
        "outputId": "5cfec9d6-35b2-4f19-eace-ffd5fa4fc433"
      },
      "outputs": [
        {
          "output_type": "execute_result",
          "data": {
            "text/plain": [
              "array([ 0.,  0.,  5., 13.,  9.,  1.,  0.,  0.,  0.,  0., 13., 15., 10.,\n",
              "       15.,  5.,  0.,  0.,  3., 15.,  2.,  0., 11.,  8.,  0.,  0.,  4.,\n",
              "       12.,  0.,  0.,  8.,  8.,  0.,  0.,  5.,  8.,  0.,  0.,  9.,  8.,\n",
              "        0.,  0.,  4., 11.,  0.,  1., 12.,  7.,  0.,  0.,  2., 14.,  5.,\n",
              "       10., 12.,  0.,  0.,  0.,  0.,  6., 13., 10.,  0.,  0.,  0.])"
            ]
          },
          "metadata": {},
          "execution_count": 11
        }
      ],
      "source": [
        "data[0]"
      ]
    },
    {
      "cell_type": "code",
      "execution_count": 12,
      "id": "59e2aa86",
      "metadata": {
        "colab": {
          "base_uri": "https://localhost:8080/"
        },
        "id": "59e2aa86",
        "outputId": "0916fee0-0a52-4336-f609-1961c3df46e5"
      },
      "outputs": [
        {
          "output_type": "execute_result",
          "data": {
            "text/plain": [
              "(64,)"
            ]
          },
          "metadata": {},
          "execution_count": 12
        }
      ],
      "source": [
        "data[0].shape"
      ]
    },
    {
      "cell_type": "code",
      "execution_count": 13,
      "id": "4bcc51e5",
      "metadata": {
        "colab": {
          "base_uri": "https://localhost:8080/"
        },
        "id": "4bcc51e5",
        "outputId": "2356f631-760f-4d29-cf9f-fbf52f63aadf"
      },
      "outputs": [
        {
          "output_type": "execute_result",
          "data": {
            "text/plain": [
              "(1797, 64)"
            ]
          },
          "metadata": {},
          "execution_count": 13
        }
      ],
      "source": [
        "data.shape"
      ]
    },
    {
      "cell_type": "markdown",
      "id": "2596a62d",
      "metadata": {
        "id": "2596a62d"
      },
      "source": [
        "# Scaling Data"
      ]
    },
    {
      "cell_type": "code",
      "execution_count": 14,
      "id": "c5cc7c78",
      "metadata": {
        "colab": {
          "base_uri": "https://localhost:8080/"
        },
        "id": "c5cc7c78",
        "outputId": "db80c3bc-b3c1-47f2-91e4-770b5bd6034b"
      },
      "outputs": [
        {
          "output_type": "execute_result",
          "data": {
            "text/plain": [
              "0.0"
            ]
          },
          "metadata": {},
          "execution_count": 14
        }
      ],
      "source": [
        "data.min()"
      ]
    },
    {
      "cell_type": "code",
      "execution_count": 15,
      "id": "3859d9fd",
      "metadata": {
        "colab": {
          "base_uri": "https://localhost:8080/"
        },
        "id": "3859d9fd",
        "outputId": "6fb8e596-6d3f-48c1-d34e-1fb21c8402c8"
      },
      "outputs": [
        {
          "output_type": "execute_result",
          "data": {
            "text/plain": [
              "16.0"
            ]
          },
          "metadata": {},
          "execution_count": 15
        }
      ],
      "source": [
        "data.max()"
      ]
    },
    {
      "cell_type": "code",
      "execution_count": 16,
      "id": "0f55a97e",
      "metadata": {
        "id": "0f55a97e"
      },
      "outputs": [],
      "source": [
        "data = data/16"
      ]
    },
    {
      "cell_type": "code",
      "execution_count": 17,
      "id": "61c9cc6a",
      "metadata": {
        "colab": {
          "base_uri": "https://localhost:8080/"
        },
        "id": "61c9cc6a",
        "outputId": "58138d58-2fa1-404f-96f7-aa9122109b3d"
      },
      "outputs": [
        {
          "output_type": "execute_result",
          "data": {
            "text/plain": [
              "0.0"
            ]
          },
          "metadata": {},
          "execution_count": 17
        }
      ],
      "source": [
        "data.min()"
      ]
    },
    {
      "cell_type": "code",
      "execution_count": 18,
      "id": "c3b7bc5a",
      "metadata": {
        "scrolled": true,
        "colab": {
          "base_uri": "https://localhost:8080/"
        },
        "id": "c3b7bc5a",
        "outputId": "67650452-0835-4a8b-c2b2-4d590fbaf0ac"
      },
      "outputs": [
        {
          "output_type": "execute_result",
          "data": {
            "text/plain": [
              "1.0"
            ]
          },
          "metadata": {},
          "execution_count": 18
        }
      ],
      "source": [
        "data.max()"
      ]
    },
    {
      "cell_type": "code",
      "execution_count": 19,
      "id": "647a3e12",
      "metadata": {
        "colab": {
          "base_uri": "https://localhost:8080/"
        },
        "id": "647a3e12",
        "outputId": "227f97f7-cd06-43ba-9531-993cc9f42d27"
      },
      "outputs": [
        {
          "output_type": "execute_result",
          "data": {
            "text/plain": [
              "array([0.    , 0.    , 0.3125, 0.8125, 0.5625, 0.0625, 0.    , 0.    ,\n",
              "       0.    , 0.    , 0.8125, 0.9375, 0.625 , 0.9375, 0.3125, 0.    ,\n",
              "       0.    , 0.1875, 0.9375, 0.125 , 0.    , 0.6875, 0.5   , 0.    ,\n",
              "       0.    , 0.25  , 0.75  , 0.    , 0.    , 0.5   , 0.5   , 0.    ,\n",
              "       0.    , 0.3125, 0.5   , 0.    , 0.    , 0.5625, 0.5   , 0.    ,\n",
              "       0.    , 0.25  , 0.6875, 0.    , 0.0625, 0.75  , 0.4375, 0.    ,\n",
              "       0.    , 0.125 , 0.875 , 0.3125, 0.625 , 0.75  , 0.    , 0.    ,\n",
              "       0.    , 0.    , 0.375 , 0.8125, 0.625 , 0.    , 0.    , 0.    ])"
            ]
          },
          "metadata": {},
          "execution_count": 19
        }
      ],
      "source": [
        "data[0]"
      ]
    },
    {
      "cell_type": "markdown",
      "id": "3eca0bdd",
      "metadata": {
        "id": "3eca0bdd"
      },
      "source": [
        "# Train test split Data"
      ]
    },
    {
      "cell_type": "code",
      "execution_count": 20,
      "id": "5ae781bc",
      "metadata": {
        "id": "5ae781bc"
      },
      "outputs": [],
      "source": [
        "from sklearn.model_selection import train_test_split"
      ]
    },
    {
      "cell_type": "code",
      "execution_count": 21,
      "id": "616cd7f8",
      "metadata": {
        "id": "616cd7f8"
      },
      "outputs": [],
      "source": [
        "xtrain, xtest, ytrain, ytest = train_test_split(data, df.target, test_size = 0.3)"
      ]
    },
    {
      "cell_type": "code",
      "execution_count": 22,
      "id": "4a4005c5",
      "metadata": {
        "colab": {
          "base_uri": "https://localhost:8080/"
        },
        "id": "4a4005c5",
        "outputId": "b94f2830-b622-4702-8d32-f81f2a866155"
      },
      "outputs": [
        {
          "output_type": "execute_result",
          "data": {
            "text/plain": [
              "((1257, 64), (540, 64), (1257,), (540,))"
            ]
          },
          "metadata": {},
          "execution_count": 22
        }
      ],
      "source": [
        "xtrain.shape, xtest.shape, ytrain.shape, ytest.shape"
      ]
    },
    {
      "cell_type": "markdown",
      "id": "def560b5",
      "metadata": {
        "id": "def560b5"
      },
      "source": [
        "# Random Forest model"
      ]
    },
    {
      "cell_type": "code",
      "execution_count": 23,
      "id": "44b0a974",
      "metadata": {
        "id": "44b0a974"
      },
      "outputs": [],
      "source": [
        "from sklearn.ensemble import RandomForestClassifier"
      ]
    },
    {
      "cell_type": "code",
      "execution_count": 24,
      "id": "274cf735",
      "metadata": {
        "id": "274cf735"
      },
      "outputs": [],
      "source": [
        "rf = RandomForestClassifier()"
      ]
    },
    {
      "cell_type": "code",
      "execution_count": 25,
      "id": "ae8ba976",
      "metadata": {
        "colab": {
          "base_uri": "https://localhost:8080/",
          "height": 74
        },
        "id": "ae8ba976",
        "outputId": "e4fb8393-0536-462e-cd2a-7b95e0862ab4"
      },
      "outputs": [
        {
          "output_type": "execute_result",
          "data": {
            "text/plain": [
              "RandomForestClassifier()"
            ],
            "text/html": [
              "<style>#sk-container-id-1 {color: black;background-color: white;}#sk-container-id-1 pre{padding: 0;}#sk-container-id-1 div.sk-toggleable {background-color: white;}#sk-container-id-1 label.sk-toggleable__label {cursor: pointer;display: block;width: 100%;margin-bottom: 0;padding: 0.3em;box-sizing: border-box;text-align: center;}#sk-container-id-1 label.sk-toggleable__label-arrow:before {content: \"▸\";float: left;margin-right: 0.25em;color: #696969;}#sk-container-id-1 label.sk-toggleable__label-arrow:hover:before {color: black;}#sk-container-id-1 div.sk-estimator:hover label.sk-toggleable__label-arrow:before {color: black;}#sk-container-id-1 div.sk-toggleable__content {max-height: 0;max-width: 0;overflow: hidden;text-align: left;background-color: #f0f8ff;}#sk-container-id-1 div.sk-toggleable__content pre {margin: 0.2em;color: black;border-radius: 0.25em;background-color: #f0f8ff;}#sk-container-id-1 input.sk-toggleable__control:checked~div.sk-toggleable__content {max-height: 200px;max-width: 100%;overflow: auto;}#sk-container-id-1 input.sk-toggleable__control:checked~label.sk-toggleable__label-arrow:before {content: \"▾\";}#sk-container-id-1 div.sk-estimator input.sk-toggleable__control:checked~label.sk-toggleable__label {background-color: #d4ebff;}#sk-container-id-1 div.sk-label input.sk-toggleable__control:checked~label.sk-toggleable__label {background-color: #d4ebff;}#sk-container-id-1 input.sk-hidden--visually {border: 0;clip: rect(1px 1px 1px 1px);clip: rect(1px, 1px, 1px, 1px);height: 1px;margin: -1px;overflow: hidden;padding: 0;position: absolute;width: 1px;}#sk-container-id-1 div.sk-estimator {font-family: monospace;background-color: #f0f8ff;border: 1px dotted black;border-radius: 0.25em;box-sizing: border-box;margin-bottom: 0.5em;}#sk-container-id-1 div.sk-estimator:hover {background-color: #d4ebff;}#sk-container-id-1 div.sk-parallel-item::after {content: \"\";width: 100%;border-bottom: 1px solid gray;flex-grow: 1;}#sk-container-id-1 div.sk-label:hover label.sk-toggleable__label {background-color: #d4ebff;}#sk-container-id-1 div.sk-serial::before {content: \"\";position: absolute;border-left: 1px solid gray;box-sizing: border-box;top: 0;bottom: 0;left: 50%;z-index: 0;}#sk-container-id-1 div.sk-serial {display: flex;flex-direction: column;align-items: center;background-color: white;padding-right: 0.2em;padding-left: 0.2em;position: relative;}#sk-container-id-1 div.sk-item {position: relative;z-index: 1;}#sk-container-id-1 div.sk-parallel {display: flex;align-items: stretch;justify-content: center;background-color: white;position: relative;}#sk-container-id-1 div.sk-item::before, #sk-container-id-1 div.sk-parallel-item::before {content: \"\";position: absolute;border-left: 1px solid gray;box-sizing: border-box;top: 0;bottom: 0;left: 50%;z-index: -1;}#sk-container-id-1 div.sk-parallel-item {display: flex;flex-direction: column;z-index: 1;position: relative;background-color: white;}#sk-container-id-1 div.sk-parallel-item:first-child::after {align-self: flex-end;width: 50%;}#sk-container-id-1 div.sk-parallel-item:last-child::after {align-self: flex-start;width: 50%;}#sk-container-id-1 div.sk-parallel-item:only-child::after {width: 0;}#sk-container-id-1 div.sk-dashed-wrapped {border: 1px dashed gray;margin: 0 0.4em 0.5em 0.4em;box-sizing: border-box;padding-bottom: 0.4em;background-color: white;}#sk-container-id-1 div.sk-label label {font-family: monospace;font-weight: bold;display: inline-block;line-height: 1.2em;}#sk-container-id-1 div.sk-label-container {text-align: center;}#sk-container-id-1 div.sk-container {/* jupyter's `normalize.less` sets `[hidden] { display: none; }` but bootstrap.min.css set `[hidden] { display: none !important; }` so we also need the `!important` here to be able to override the default hidden behavior on the sphinx rendered scikit-learn.org. See: https://github.com/scikit-learn/scikit-learn/issues/21755 */display: inline-block !important;position: relative;}#sk-container-id-1 div.sk-text-repr-fallback {display: none;}</style><div id=\"sk-container-id-1\" class=\"sk-top-container\"><div class=\"sk-text-repr-fallback\"><pre>RandomForestClassifier()</pre><b>In a Jupyter environment, please rerun this cell to show the HTML representation or trust the notebook. <br />On GitHub, the HTML representation is unable to render, please try loading this page with nbviewer.org.</b></div><div class=\"sk-container\" hidden><div class=\"sk-item\"><div class=\"sk-estimator sk-toggleable\"><input class=\"sk-toggleable__control sk-hidden--visually\" id=\"sk-estimator-id-1\" type=\"checkbox\" checked><label for=\"sk-estimator-id-1\" class=\"sk-toggleable__label sk-toggleable__label-arrow\">RandomForestClassifier</label><div class=\"sk-toggleable__content\"><pre>RandomForestClassifier()</pre></div></div></div></div></div>"
            ]
          },
          "metadata": {},
          "execution_count": 25
        }
      ],
      "source": [
        "rf.fit(xtrain, ytrain)"
      ]
    },
    {
      "cell_type": "markdown",
      "id": "15698545",
      "metadata": {
        "id": "15698545"
      },
      "source": [
        "# Predict Test Data"
      ]
    },
    {
      "cell_type": "code",
      "execution_count": 26,
      "id": "820ac373",
      "metadata": {
        "id": "820ac373"
      },
      "outputs": [],
      "source": [
        "y_pred = rf.predict(xtest)"
      ]
    },
    {
      "cell_type": "code",
      "execution_count": 27,
      "id": "98d612d7",
      "metadata": {
        "colab": {
          "base_uri": "https://localhost:8080/"
        },
        "id": "98d612d7",
        "outputId": "75e2998e-b8fc-4e49-d98b-822aee08b855"
      },
      "outputs": [
        {
          "output_type": "execute_result",
          "data": {
            "text/plain": [
              "array([1, 2, 4, 3, 6, 4, 1, 9, 6, 4, 0, 6, 5, 6, 1, 0, 3, 8, 8, 1, 4, 1,\n",
              "       0, 5, 9, 2, 7, 6, 7, 0, 4, 0, 5, 7, 1, 1, 0, 9, 1, 0, 7, 0, 6, 3,\n",
              "       7, 7, 5, 2, 5, 5, 2, 6, 5, 0, 6, 6, 5, 1, 6, 4, 5, 6, 1, 0, 2, 7,\n",
              "       8, 9, 7, 0, 4, 9, 7, 2, 0, 7, 7, 6, 6, 2, 9, 3, 5, 1, 6, 3, 8, 9,\n",
              "       0, 7, 1, 2, 0, 4, 3, 9, 1, 9, 2, 7, 3, 2, 5, 6, 4, 2, 7, 8, 9, 9,\n",
              "       2, 9, 4, 7, 5, 6, 5, 0, 2, 2, 8, 4, 0, 9, 4, 1, 4, 4, 1, 2, 4, 3,\n",
              "       1, 4, 1, 0, 2, 2, 3, 2, 9, 1, 6, 7, 7, 2, 8, 4, 7, 0, 1, 7, 8, 8,\n",
              "       1, 4, 4, 8, 8, 0, 3, 5, 6, 8, 0, 7, 9, 8, 4, 6, 8, 1, 9, 7, 7, 3,\n",
              "       5, 6, 0, 0, 9, 0, 0, 6, 9, 7, 8, 4, 6, 3, 2, 2, 4, 6, 1, 2, 2, 1,\n",
              "       5, 0, 8, 3, 3, 5, 6, 0, 4, 0, 7, 2, 0, 1, 6, 2, 3, 4, 0, 4, 7, 4,\n",
              "       7, 1, 6, 6, 7, 3, 6, 8, 0, 0, 5, 6, 5, 0, 5, 1, 8, 1, 9, 7, 8, 3,\n",
              "       3, 8, 6, 0, 7, 2, 3, 7, 4, 3, 5, 1, 2, 9, 5, 9, 2, 3, 3, 6, 6, 9,\n",
              "       3, 6, 1, 9, 2, 5, 5, 5, 8, 2, 3, 6, 2, 3, 6, 8, 0, 5, 0, 2, 1, 1,\n",
              "       6, 2, 3, 3, 9, 3, 9, 1, 7, 9, 5, 3, 3, 0, 6, 3, 5, 6, 4, 6, 3, 3,\n",
              "       6, 2, 0, 1, 4, 5, 6, 1, 3, 9, 2, 5, 5, 6, 0, 3, 7, 7, 9, 5, 4, 6,\n",
              "       5, 5, 6, 6, 7, 4, 0, 9, 4, 3, 3, 2, 0, 7, 8, 7, 7, 9, 6, 0, 8, 3,\n",
              "       1, 7, 2, 4, 8, 2, 8, 5, 6, 8, 5, 9, 1, 0, 7, 2, 9, 0, 3, 2, 6, 1,\n",
              "       7, 4, 4, 6, 7, 9, 8, 4, 1, 5, 3, 8, 4, 8, 2, 3, 0, 1, 4, 5, 3, 7,\n",
              "       0, 7, 4, 1, 4, 5, 8, 7, 4, 7, 5, 9, 9, 0, 8, 2, 8, 1, 8, 5, 6, 0,\n",
              "       6, 2, 2, 1, 3, 2, 7, 0, 7, 3, 9, 1, 3, 0, 4, 0, 9, 0, 3, 7, 7, 3,\n",
              "       3, 3, 8, 6, 0, 5, 0, 7, 4, 0, 6, 0, 2, 9, 8, 9, 6, 5, 1, 6, 7, 9,\n",
              "       5, 4, 2, 5, 6, 2, 2, 9, 5, 3, 4, 3, 1, 2, 1, 7, 7, 4, 8, 2, 9, 2,\n",
              "       3, 8, 8, 7, 3, 1, 1, 7, 8, 1, 6, 6, 8, 8, 8, 4, 3, 0, 4, 1, 7, 5,\n",
              "       5, 7, 9, 5, 6, 3, 2, 7, 8, 7, 6, 9, 7, 0, 4, 9, 1, 3, 3, 5, 5, 8,\n",
              "       8, 4, 8, 2, 8, 8, 3, 7, 7, 2, 6, 4])"
            ]
          },
          "metadata": {},
          "execution_count": 27
        }
      ],
      "source": [
        "y_pred"
      ]
    },
    {
      "cell_type": "markdown",
      "id": "37bd5215",
      "metadata": {
        "id": "37bd5215"
      },
      "source": [
        "# Model Accuracy"
      ]
    },
    {
      "cell_type": "code",
      "execution_count": 28,
      "id": "651bcf95",
      "metadata": {
        "id": "651bcf95"
      },
      "outputs": [],
      "source": [
        "from sklearn.metrics import confusion_matrix, classification_report"
      ]
    },
    {
      "cell_type": "code",
      "execution_count": 29,
      "id": "e89794b9",
      "metadata": {
        "colab": {
          "base_uri": "https://localhost:8080/"
        },
        "id": "e89794b9",
        "outputId": "80498eb9-c346-470c-8f8e-72f328f9a1ed"
      },
      "outputs": [
        {
          "output_type": "execute_result",
          "data": {
            "text/plain": [
              "array([[57,  0,  0,  0,  0,  0,  0,  0,  1,  0],\n",
              "       [ 0, 48,  0,  0,  0,  1,  0,  0,  0,  0],\n",
              "       [ 0,  0, 55,  0,  0,  0,  0,  0,  0,  0],\n",
              "       [ 0,  0,  0, 56,  0,  0,  0,  0,  0,  0],\n",
              "       [ 0,  0,  0,  0, 51,  0,  0,  1,  0,  0],\n",
              "       [ 0,  0,  0,  0,  0, 47,  1,  0,  0,  2],\n",
              "       [ 0,  0,  0,  0,  0,  0, 60,  0,  0,  0],\n",
              "       [ 0,  0,  0,  0,  0,  0,  0, 57,  0,  0],\n",
              "       [ 0,  3,  0,  1,  0,  2,  0,  1, 47,  0],\n",
              "       [ 0,  0,  0,  1,  0,  1,  0,  3,  1, 43]])"
            ]
          },
          "metadata": {},
          "execution_count": 29
        }
      ],
      "source": [
        "confusion_matrix(ytest, y_pred)"
      ]
    },
    {
      "cell_type": "code",
      "execution_count": 30,
      "id": "9b4d424b",
      "metadata": {
        "colab": {
          "base_uri": "https://localhost:8080/"
        },
        "id": "9b4d424b",
        "outputId": "b888a392-8651-4f13-bca1-2a954a0ee899"
      },
      "outputs": [
        {
          "output_type": "stream",
          "name": "stdout",
          "text": [
            "              precision    recall  f1-score   support\n",
            "\n",
            "           0       1.00      0.98      0.99        58\n",
            "           1       0.94      0.98      0.96        49\n",
            "           2       1.00      1.00      1.00        55\n",
            "           3       0.97      1.00      0.98        56\n",
            "           4       1.00      0.98      0.99        52\n",
            "           5       0.92      0.94      0.93        50\n",
            "           6       0.98      1.00      0.99        60\n",
            "           7       0.92      1.00      0.96        57\n",
            "           8       0.96      0.87      0.91        54\n",
            "           9       0.96      0.88      0.91        49\n",
            "\n",
            "    accuracy                           0.96       540\n",
            "   macro avg       0.96      0.96      0.96       540\n",
            "weighted avg       0.97      0.96      0.96       540\n",
            "\n"
          ]
        }
      ],
      "source": [
        "print(classification_report(ytest, y_pred))"
      ]
    },
    {
      "cell_type": "code",
      "execution_count": null,
      "id": "63ecb5ac",
      "metadata": {
        "id": "63ecb5ac"
      },
      "outputs": [],
      "source": []
    }
  ],
  "metadata": {
    "kernelspec": {
      "display_name": "Python 3 (ipykernel)",
      "language": "python",
      "name": "python3"
    },
    "language_info": {
      "codemirror_mode": {
        "name": "ipython",
        "version": 3
      },
      "file_extension": ".py",
      "mimetype": "text/x-python",
      "name": "python",
      "nbconvert_exporter": "python",
      "pygments_lexer": "ipython3",
      "version": "3.11.4"
    },
    "colab": {
      "provenance": []
    }
  },
  "nbformat": 4,
  "nbformat_minor": 5
}